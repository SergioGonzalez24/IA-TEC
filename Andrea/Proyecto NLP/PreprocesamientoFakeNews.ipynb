{
  "cells": [
    {
      "cell_type": "code",
      "execution_count": 3,
      "metadata": {},
      "outputs": [
        {
          "name": "stdout",
          "output_type": "stream",
          "text": [
            "Collecting tensorflow_datasets\n",
            "  Downloading tensorflow_datasets-4.9.3-py3-none-any.whl.metadata (9.3 kB)\n",
            "Requirement already satisfied: absl-py in /Users/sergiogonzalez/anaconda3/lib/python3.11/site-packages (from tensorflow_datasets) (2.0.0)\n",
            "Collecting array-record (from tensorflow_datasets)\n",
            "  Downloading array_record-0.4.1-py310-none-any.whl.metadata (503 bytes)\n",
            "Requirement already satisfied: click in /Users/sergiogonzalez/anaconda3/lib/python3.11/site-packages (from tensorflow_datasets) (8.0.4)\n",
            "Collecting dm-tree (from tensorflow_datasets)\n",
            "  Downloading dm_tree-0.1.8-cp311-cp311-macosx_11_0_arm64.whl (110 kB)\n",
            "\u001b[2K     \u001b[90m━━━━━━━━━━━━━━━━━━━━━━━━━━━━━━━━━━━━━\u001b[0m \u001b[32m110.7/110.7 kB\u001b[0m \u001b[31m306.9 kB/s\u001b[0m eta \u001b[36m0:00:00\u001b[0ma \u001b[36m0:00:01\u001b[0m\n",
            "\u001b[?25hCollecting etils>=0.9.0 (from etils[enp,epath,etree]>=0.9.0->tensorflow_datasets)\n",
            "  Downloading etils-1.5.2-py3-none-any.whl.metadata (6.3 kB)\n",
            "Requirement already satisfied: numpy in /Users/sergiogonzalez/anaconda3/lib/python3.11/site-packages (from tensorflow_datasets) (1.24.2)\n",
            "Collecting promise (from tensorflow_datasets)\n",
            "  Downloading promise-2.3.tar.gz (19 kB)\n",
            "  Preparing metadata (setup.py) ... \u001b[?25ldone\n",
            "\u001b[?25hRequirement already satisfied: protobuf>=3.20 in /Users/sergiogonzalez/anaconda3/lib/python3.11/site-packages (from tensorflow_datasets) (4.23.4)\n",
            "Requirement already satisfied: psutil in /Users/sergiogonzalez/anaconda3/lib/python3.11/site-packages (from tensorflow_datasets) (5.9.0)\n",
            "Requirement already satisfied: requests>=2.19.0 in /Users/sergiogonzalez/anaconda3/lib/python3.11/site-packages (from tensorflow_datasets) (2.31.0)\n",
            "Collecting tensorflow-metadata (from tensorflow_datasets)\n",
            "  Downloading tensorflow_metadata-1.14.0-py3-none-any.whl.metadata (2.1 kB)\n",
            "Requirement already satisfied: termcolor in /Users/sergiogonzalez/anaconda3/lib/python3.11/site-packages (from tensorflow_datasets) (2.3.0)\n",
            "Requirement already satisfied: toml in /Users/sergiogonzalez/anaconda3/lib/python3.11/site-packages (from tensorflow_datasets) (0.10.2)\n",
            "Requirement already satisfied: tqdm in /Users/sergiogonzalez/anaconda3/lib/python3.11/site-packages (from tensorflow_datasets) (4.65.0)\n",
            "Requirement already satisfied: wrapt in /Users/sergiogonzalez/anaconda3/lib/python3.11/site-packages (from tensorflow_datasets) (1.14.1)\n",
            "Requirement already satisfied: fsspec in /Users/sergiogonzalez/anaconda3/lib/python3.11/site-packages (from etils[enp,epath,etree]>=0.9.0->tensorflow_datasets) (2023.4.0)\n",
            "Collecting importlib_resources (from etils[enp,epath,etree]>=0.9.0->tensorflow_datasets)\n",
            "  Downloading importlib_resources-6.1.1-py3-none-any.whl.metadata (4.1 kB)\n",
            "Requirement already satisfied: typing_extensions in /Users/sergiogonzalez/anaconda3/lib/python3.11/site-packages (from etils[enp,epath,etree]>=0.9.0->tensorflow_datasets) (4.5.0)\n",
            "Requirement already satisfied: zipp in /Users/sergiogonzalez/anaconda3/lib/python3.11/site-packages (from etils[enp,epath,etree]>=0.9.0->tensorflow_datasets) (3.11.0)\n",
            "Requirement already satisfied: charset-normalizer<4,>=2 in /Users/sergiogonzalez/anaconda3/lib/python3.11/site-packages (from requests>=2.19.0->tensorflow_datasets) (2.0.4)\n",
            "Requirement already satisfied: idna<4,>=2.5 in /Users/sergiogonzalez/anaconda3/lib/python3.11/site-packages (from requests>=2.19.0->tensorflow_datasets) (3.4)\n",
            "Requirement already satisfied: urllib3<3,>=1.21.1 in /Users/sergiogonzalez/anaconda3/lib/python3.11/site-packages (from requests>=2.19.0->tensorflow_datasets) (1.26.16)\n",
            "Requirement already satisfied: certifi>=2017.4.17 in /Users/sergiogonzalez/anaconda3/lib/python3.11/site-packages (from requests>=2.19.0->tensorflow_datasets) (2023.7.22)\n",
            "Requirement already satisfied: six in /Users/sergiogonzalez/anaconda3/lib/python3.11/site-packages (from promise->tensorflow_datasets) (1.16.0)\n",
            "Collecting absl-py (from tensorflow_datasets)\n",
            "  Downloading absl_py-1.4.0-py3-none-any.whl (126 kB)\n",
            "\u001b[2K     \u001b[90m━━━━━━━━━━━━━━━━━━━━━━━━━━━━━━━━━━━━━━\u001b[0m \u001b[32m126.5/126.5 kB\u001b[0m \u001b[31m11.0 MB/s\u001b[0m eta \u001b[36m0:00:00\u001b[0m\n",
            "\u001b[?25hCollecting googleapis-common-protos<2,>=1.52.0 (from tensorflow-metadata->tensorflow_datasets)\n",
            "  Downloading googleapis_common_protos-1.61.0-py2.py3-none-any.whl.metadata (1.5 kB)\n",
            "Collecting protobuf>=3.20 (from tensorflow_datasets)\n",
            "  Downloading protobuf-3.20.3-py2.py3-none-any.whl (162 kB)\n",
            "\u001b[2K     \u001b[90m━━━━━━━━━━━━━━━━━━━━━━━━━━━━━━━━━━━━━━━\u001b[0m \u001b[32m162.1/162.1 kB\u001b[0m \u001b[31m1.1 MB/s\u001b[0m eta \u001b[36m0:00:00\u001b[0ma \u001b[36m0:00:01\u001b[0m\n",
            "\u001b[?25hDownloading tensorflow_datasets-4.9.3-py3-none-any.whl (5.0 MB)\n",
            "\u001b[2K   \u001b[90m━━━━━━━━━━━━━━━━━━━━━━━━━━━━━━━━━━━━━━━━\u001b[0m \u001b[32m5.0/5.0 MB\u001b[0m \u001b[31m2.5 MB/s\u001b[0m eta \u001b[36m0:00:00\u001b[0m00:01\u001b[0m00:01\u001b[0m\n",
            "\u001b[?25hDownloading etils-1.5.2-py3-none-any.whl (140 kB)\n",
            "\u001b[2K   \u001b[90m━━━━━━━━━━━━━━━━━━━━━━━━━━━━━━━━━━━━━━━━\u001b[0m \u001b[32m140.6/140.6 kB\u001b[0m \u001b[31m8.0 MB/s\u001b[0m eta \u001b[36m0:00:00\u001b[0m\n",
            "\u001b[?25hDownloading array_record-0.4.1-py310-none-any.whl (3.0 MB)\n",
            "\u001b[2K   \u001b[90m━━━━━━━━━━━━━━━━━━━━━━━━━━━━━━━━━━━━━━━━\u001b[0m \u001b[32m3.0/3.0 MB\u001b[0m \u001b[31m4.5 MB/s\u001b[0m eta \u001b[36m0:00:00\u001b[0ma \u001b[36m0:00:01\u001b[0m\n",
            "\u001b[?25hDownloading tensorflow_metadata-1.14.0-py3-none-any.whl (28 kB)\n",
            "Downloading googleapis_common_protos-1.61.0-py2.py3-none-any.whl (230 kB)\n",
            "\u001b[2K   \u001b[90m━━━━━━━━━━━━━━━━━━━━━━━━━━━━━━━━━━━━━━━━\u001b[0m \u001b[32m230.9/230.9 kB\u001b[0m \u001b[31m5.2 MB/s\u001b[0m eta \u001b[36m0:00:00\u001b[0m00:01\u001b[0m\n",
            "\u001b[?25hDownloading importlib_resources-6.1.1-py3-none-any.whl (33 kB)\n",
            "Building wheels for collected packages: promise\n",
            "  Building wheel for promise (setup.py) ... \u001b[?25ldone\n",
            "\u001b[?25h  Created wheel for promise: filename=promise-2.3-py3-none-any.whl size=21486 sha256=85c535dcaf3195d4f59b90258368aebfea465f5f2e59fc48aa0946e4dfa502a3\n",
            "  Stored in directory: /Users/sergiogonzalez/Library/Caches/pip/wheels/90/74/b1/9b54c896b8d9409e9268329d4d45ede8a8040abe91c8879932\n",
            "Successfully built promise\n",
            "Installing collected packages: dm-tree, protobuf, promise, importlib_resources, etils, absl-py, googleapis-common-protos, tensorflow-metadata, array-record, tensorflow_datasets\n",
            "  Attempting uninstall: protobuf\n",
            "    Found existing installation: protobuf 4.23.4\n",
            "    Uninstalling protobuf-4.23.4:\n",
            "      Successfully uninstalled protobuf-4.23.4\n",
            "  Attempting uninstall: absl-py\n",
            "    Found existing installation: absl-py 2.0.0\n",
            "    Uninstalling absl-py-2.0.0:\n",
            "      Successfully uninstalled absl-py-2.0.0\n",
            "Successfully installed absl-py-1.4.0 array-record-0.4.1 dm-tree-0.1.8 etils-1.5.2 googleapis-common-protos-1.61.0 importlib_resources-6.1.1 promise-2.3 protobuf-3.20.3 tensorflow-metadata-1.14.0 tensorflow_datasets-4.9.3\n",
            "\n",
            "\u001b[1m[\u001b[0m\u001b[34;49mnotice\u001b[0m\u001b[1;39;49m]\u001b[0m\u001b[39;49m A new release of pip is available: \u001b[0m\u001b[31;49m23.3\u001b[0m\u001b[39;49m -> \u001b[0m\u001b[32;49m23.3.1\u001b[0m\n",
            "\u001b[1m[\u001b[0m\u001b[34;49mnotice\u001b[0m\u001b[1;39;49m]\u001b[0m\u001b[39;49m To update, run: \u001b[0m\u001b[32;49mpip install --upgrade pip\u001b[0m\n",
            "Note: you may need to restart the kernel to use updated packages.\n"
          ]
        }
      ],
      "source": [
        "%pip install tensorflow_datasets "
      ]
    },
    {
      "cell_type": "code",
      "execution_count": 1,
      "metadata": {
        "id": "v8B3_ZrTM5N6"
      },
      "outputs": [],
      "source": [
        "from sklearn.model_selection import train_test_split\n",
        "#split the data into train and test set\n",
        "import pandas as pd"
      ]
    },
    {
      "cell_type": "code",
      "execution_count": 4,
      "metadata": {
        "id": "xXbjgG_7NfoL"
      },
      "outputs": [],
      "source": [
        "import numpy as np\n",
        "import seaborn as sns\n",
        "import tensorflow_datasets as tfds\n",
        "import tensorflow as tf\n",
        "import matplotlib as plt\n",
        "tfds.disable_progress_bar()"
      ]
    },
    {
      "cell_type": "code",
      "execution_count": 5,
      "metadata": {
        "id": "biB4FseAV1aM"
      },
      "outputs": [],
      "source": [
        "from sklearn import preprocessing\n",
        "le = preprocessing.LabelEncoder()"
      ]
    },
    {
      "cell_type": "code",
      "execution_count": 6,
      "metadata": {
        "colab": {
          "base_uri": "https://localhost:8080/",
          "height": 144
        },
        "id": "qSBgr-0gNlH-",
        "outputId": "c327092d-97aa-4462-9e13-887d322a073c"
      },
      "outputs": [
        {
          "ename": "ModuleNotFoundError",
          "evalue": "No module named 'google.colab'",
          "output_type": "error",
          "traceback": [
            "\u001b[0;31m---------------------------------------------------------------------------\u001b[0m",
            "\u001b[0;31mModuleNotFoundError\u001b[0m                       Traceback (most recent call last)",
            "\u001b[1;32m/Users/sergiogonzalez/Documents/GitHub/IA-TEC/Andrea/Proyecto NLP/PreprocesamientoFakeNews.ipynb Celda 5\u001b[0m line \u001b[0;36m1\n\u001b[0;32m----> <a href='vscode-notebook-cell:/Users/sergiogonzalez/Documents/GitHub/IA-TEC/Andrea/Proyecto%20NLP/PreprocesamientoFakeNews.ipynb#W3sZmlsZQ%3D%3D?line=0'>1</a>\u001b[0m \u001b[39mfrom\u001b[39;00m \u001b[39mgoogle\u001b[39;00m\u001b[39m.\u001b[39;00m\u001b[39mcolab\u001b[39;00m \u001b[39mimport\u001b[39;00m files\n\u001b[1;32m      <a href='vscode-notebook-cell:/Users/sergiogonzalez/Documents/GitHub/IA-TEC/Andrea/Proyecto%20NLP/PreprocesamientoFakeNews.ipynb#W3sZmlsZQ%3D%3D?line=2'>3</a>\u001b[0m uploaded \u001b[39m=\u001b[39m files\u001b[39m.\u001b[39mupload()\n\u001b[1;32m      <a href='vscode-notebook-cell:/Users/sergiogonzalez/Documents/GitHub/IA-TEC/Andrea/Proyecto%20NLP/PreprocesamientoFakeNews.ipynb#W3sZmlsZQ%3D%3D?line=4'>5</a>\u001b[0m \u001b[39mfor\u001b[39;00m fn \u001b[39min\u001b[39;00m uploaded\u001b[39m.\u001b[39mkeys():\n",
            "\u001b[0;31mModuleNotFoundError\u001b[0m: No module named 'google.colab'"
          ]
        }
      ],
      "source": [
        "from google.colab import files\n",
        "\n",
        "uploaded = files.upload()\n",
        "\n",
        "for fn in uploaded.keys():\n",
        "  print('User uploaded file \"{name}\" with length {length} bytes'.format(\n",
        "      name=fn, length=len(uploaded[fn])))"
      ]
    },
    {
      "cell_type": "code",
      "execution_count": 5,
      "metadata": {
        "id": "T_8cwvzdN8LS"
      },
      "outputs": [],
      "source": [
        "train = pd.read_excel(\"train.xlsx\")"
      ]
    },
    {
      "cell_type": "code",
      "execution_count": 8,
      "metadata": {
        "colab": {
          "base_uri": "https://localhost:8080/",
          "height": 501
        },
        "id": "kotqjx4eOQNu",
        "outputId": "c5fb3544-ffa3-4e87-b648-1a58be183e11"
      },
      "outputs": [
        {
          "data": {
            "text/html": [
              "\n",
              "  <div id=\"df-7988862c-ca47-43a0-b50b-854a83c9d10b\" class=\"colab-df-container\">\n",
              "    <div>\n",
              "<style scoped>\n",
              "    .dataframe tbody tr th:only-of-type {\n",
              "        vertical-align: middle;\n",
              "    }\n",
              "\n",
              "    .dataframe tbody tr th {\n",
              "        vertical-align: top;\n",
              "    }\n",
              "\n",
              "    .dataframe thead th {\n",
              "        text-align: right;\n",
              "    }\n",
              "</style>\n",
              "<table border=\"1\" class=\"dataframe\">\n",
              "  <thead>\n",
              "    <tr style=\"text-align: right;\">\n",
              "      <th></th>\n",
              "      <th>Id</th>\n",
              "      <th>Category</th>\n",
              "      <th>Topic</th>\n",
              "      <th>Source</th>\n",
              "      <th>Headline</th>\n",
              "      <th>Text</th>\n",
              "      <th>Link</th>\n",
              "    </tr>\n",
              "  </thead>\n",
              "  <tbody>\n",
              "    <tr>\n",
              "      <th>0</th>\n",
              "      <td>1</td>\n",
              "      <td>Fake</td>\n",
              "      <td>Education</td>\n",
              "      <td>El Ruinaversal</td>\n",
              "      <td>RAE INCLUIRÁ LA PALABRA \"LADY\" EN EL DICCIONAR...</td>\n",
              "      <td>RAE INCLUIRÁ LA PALABRA \"LADY\" EN EL DICCIONAR...</td>\n",
              "      <td>http://www.elruinaversal.com/2017/06/10/rae-in...</td>\n",
              "    </tr>\n",
              "    <tr>\n",
              "      <th>1</th>\n",
              "      <td>2</td>\n",
              "      <td>Fake</td>\n",
              "      <td>Education</td>\n",
              "      <td>Hay noticia</td>\n",
              "      <td>La palabra \"haiga\", aceptada por la RAE</td>\n",
              "      <td>La palabra \"haiga\", aceptada por la RAE La Rea...</td>\n",
              "      <td>https://haynoticia.es/la-palabra-haiga-aceptad...</td>\n",
              "    </tr>\n",
              "    <tr>\n",
              "      <th>2</th>\n",
              "      <td>3</td>\n",
              "      <td>Fake</td>\n",
              "      <td>Education</td>\n",
              "      <td>El Ruinaversal</td>\n",
              "      <td>YORDI ROSADO ESCRIBIRÁ Y DISEÑARÁ LOS NUEVOS L...</td>\n",
              "      <td>YORDI ROSADO ESCRIBIRÁ Y DISEÑARÁ LOS NUEVOS L...</td>\n",
              "      <td>http://www.elruinaversal.com/2018/05/06/yordi-...</td>\n",
              "    </tr>\n",
              "    <tr>\n",
              "      <th>3</th>\n",
              "      <td>4</td>\n",
              "      <td>True</td>\n",
              "      <td>Education</td>\n",
              "      <td>EL UNIVERSAL</td>\n",
              "      <td>UNAM capacitará a maestros para aprobar prueba...</td>\n",
              "      <td>UNAM capacitará a maestros para aprobar prueba...</td>\n",
              "      <td>http://www.eluniversal.com.mx/articulo/nacion/...</td>\n",
              "    </tr>\n",
              "    <tr>\n",
              "      <th>4</th>\n",
              "      <td>5</td>\n",
              "      <td>Fake</td>\n",
              "      <td>Education</td>\n",
              "      <td>Lamula</td>\n",
              "      <td>pretenden aprobar libros escolares con conteni...</td>\n",
              "      <td>Alerta: pretenden aprobar libros escolares con...</td>\n",
              "      <td>https://redaccion.lamula.pe/2018/06/19/memoria...</td>\n",
              "    </tr>\n",
              "  </tbody>\n",
              "</table>\n",
              "</div>\n",
              "    <div class=\"colab-df-buttons\">\n",
              "\n",
              "  <div class=\"colab-df-container\">\n",
              "    <button class=\"colab-df-convert\" onclick=\"convertToInteractive('df-7988862c-ca47-43a0-b50b-854a83c9d10b')\"\n",
              "            title=\"Convert this dataframe to an interactive table.\"\n",
              "            style=\"display:none;\">\n",
              "\n",
              "  <svg xmlns=\"http://www.w3.org/2000/svg\" height=\"24px\" viewBox=\"0 -960 960 960\">\n",
              "    <path d=\"M120-120v-720h720v720H120Zm60-500h600v-160H180v160Zm220 220h160v-160H400v160Zm0 220h160v-160H400v160ZM180-400h160v-160H180v160Zm440 0h160v-160H620v160ZM180-180h160v-160H180v160Zm440 0h160v-160H620v160Z\"/>\n",
              "  </svg>\n",
              "    </button>\n",
              "\n",
              "  <style>\n",
              "    .colab-df-container {\n",
              "      display:flex;\n",
              "      gap: 12px;\n",
              "    }\n",
              "\n",
              "    .colab-df-convert {\n",
              "      background-color: #E8F0FE;\n",
              "      border: none;\n",
              "      border-radius: 50%;\n",
              "      cursor: pointer;\n",
              "      display: none;\n",
              "      fill: #1967D2;\n",
              "      height: 32px;\n",
              "      padding: 0 0 0 0;\n",
              "      width: 32px;\n",
              "    }\n",
              "\n",
              "    .colab-df-convert:hover {\n",
              "      background-color: #E2EBFA;\n",
              "      box-shadow: 0px 1px 2px rgba(60, 64, 67, 0.3), 0px 1px 3px 1px rgba(60, 64, 67, 0.15);\n",
              "      fill: #174EA6;\n",
              "    }\n",
              "\n",
              "    .colab-df-buttons div {\n",
              "      margin-bottom: 4px;\n",
              "    }\n",
              "\n",
              "    [theme=dark] .colab-df-convert {\n",
              "      background-color: #3B4455;\n",
              "      fill: #D2E3FC;\n",
              "    }\n",
              "\n",
              "    [theme=dark] .colab-df-convert:hover {\n",
              "      background-color: #434B5C;\n",
              "      box-shadow: 0px 1px 3px 1px rgba(0, 0, 0, 0.15);\n",
              "      filter: drop-shadow(0px 1px 2px rgba(0, 0, 0, 0.3));\n",
              "      fill: #FFFFFF;\n",
              "    }\n",
              "  </style>\n",
              "\n",
              "    <script>\n",
              "      const buttonEl =\n",
              "        document.querySelector('#df-7988862c-ca47-43a0-b50b-854a83c9d10b button.colab-df-convert');\n",
              "      buttonEl.style.display =\n",
              "        google.colab.kernel.accessAllowed ? 'block' : 'none';\n",
              "\n",
              "      async function convertToInteractive(key) {\n",
              "        const element = document.querySelector('#df-7988862c-ca47-43a0-b50b-854a83c9d10b');\n",
              "        const dataTable =\n",
              "          await google.colab.kernel.invokeFunction('convertToInteractive',\n",
              "                                                    [key], {});\n",
              "        if (!dataTable) return;\n",
              "\n",
              "        const docLinkHtml = 'Like what you see? Visit the ' +\n",
              "          '<a target=\"_blank\" href=https://colab.research.google.com/notebooks/data_table.ipynb>data table notebook</a>'\n",
              "          + ' to learn more about interactive tables.';\n",
              "        element.innerHTML = '';\n",
              "        dataTable['output_type'] = 'display_data';\n",
              "        await google.colab.output.renderOutput(dataTable, element);\n",
              "        const docLink = document.createElement('div');\n",
              "        docLink.innerHTML = docLinkHtml;\n",
              "        element.appendChild(docLink);\n",
              "      }\n",
              "    </script>\n",
              "  </div>\n",
              "\n",
              "\n",
              "<div id=\"df-52bed1f0-1c62-4f5a-8dbd-afadfde34622\">\n",
              "  <button class=\"colab-df-quickchart\" onclick=\"quickchart('df-52bed1f0-1c62-4f5a-8dbd-afadfde34622')\"\n",
              "            title=\"Suggest charts\"\n",
              "            style=\"display:none;\">\n",
              "\n",
              "<svg xmlns=\"http://www.w3.org/2000/svg\" height=\"24px\"viewBox=\"0 0 24 24\"\n",
              "     width=\"24px\">\n",
              "    <g>\n",
              "        <path d=\"M19 3H5c-1.1 0-2 .9-2 2v14c0 1.1.9 2 2 2h14c1.1 0 2-.9 2-2V5c0-1.1-.9-2-2-2zM9 17H7v-7h2v7zm4 0h-2V7h2v10zm4 0h-2v-4h2v4z\"/>\n",
              "    </g>\n",
              "</svg>\n",
              "  </button>\n",
              "\n",
              "<style>\n",
              "  .colab-df-quickchart {\n",
              "      --bg-color: #E8F0FE;\n",
              "      --fill-color: #1967D2;\n",
              "      --hover-bg-color: #E2EBFA;\n",
              "      --hover-fill-color: #174EA6;\n",
              "      --disabled-fill-color: #AAA;\n",
              "      --disabled-bg-color: #DDD;\n",
              "  }\n",
              "\n",
              "  [theme=dark] .colab-df-quickchart {\n",
              "      --bg-color: #3B4455;\n",
              "      --fill-color: #D2E3FC;\n",
              "      --hover-bg-color: #434B5C;\n",
              "      --hover-fill-color: #FFFFFF;\n",
              "      --disabled-bg-color: #3B4455;\n",
              "      --disabled-fill-color: #666;\n",
              "  }\n",
              "\n",
              "  .colab-df-quickchart {\n",
              "    background-color: var(--bg-color);\n",
              "    border: none;\n",
              "    border-radius: 50%;\n",
              "    cursor: pointer;\n",
              "    display: none;\n",
              "    fill: var(--fill-color);\n",
              "    height: 32px;\n",
              "    padding: 0;\n",
              "    width: 32px;\n",
              "  }\n",
              "\n",
              "  .colab-df-quickchart:hover {\n",
              "    background-color: var(--hover-bg-color);\n",
              "    box-shadow: 0 1px 2px rgba(60, 64, 67, 0.3), 0 1px 3px 1px rgba(60, 64, 67, 0.15);\n",
              "    fill: var(--button-hover-fill-color);\n",
              "  }\n",
              "\n",
              "  .colab-df-quickchart-complete:disabled,\n",
              "  .colab-df-quickchart-complete:disabled:hover {\n",
              "    background-color: var(--disabled-bg-color);\n",
              "    fill: var(--disabled-fill-color);\n",
              "    box-shadow: none;\n",
              "  }\n",
              "\n",
              "  .colab-df-spinner {\n",
              "    border: 2px solid var(--fill-color);\n",
              "    border-color: transparent;\n",
              "    border-bottom-color: var(--fill-color);\n",
              "    animation:\n",
              "      spin 1s steps(1) infinite;\n",
              "  }\n",
              "\n",
              "  @keyframes spin {\n",
              "    0% {\n",
              "      border-color: transparent;\n",
              "      border-bottom-color: var(--fill-color);\n",
              "      border-left-color: var(--fill-color);\n",
              "    }\n",
              "    20% {\n",
              "      border-color: transparent;\n",
              "      border-left-color: var(--fill-color);\n",
              "      border-top-color: var(--fill-color);\n",
              "    }\n",
              "    30% {\n",
              "      border-color: transparent;\n",
              "      border-left-color: var(--fill-color);\n",
              "      border-top-color: var(--fill-color);\n",
              "      border-right-color: var(--fill-color);\n",
              "    }\n",
              "    40% {\n",
              "      border-color: transparent;\n",
              "      border-right-color: var(--fill-color);\n",
              "      border-top-color: var(--fill-color);\n",
              "    }\n",
              "    60% {\n",
              "      border-color: transparent;\n",
              "      border-right-color: var(--fill-color);\n",
              "    }\n",
              "    80% {\n",
              "      border-color: transparent;\n",
              "      border-right-color: var(--fill-color);\n",
              "      border-bottom-color: var(--fill-color);\n",
              "    }\n",
              "    90% {\n",
              "      border-color: transparent;\n",
              "      border-bottom-color: var(--fill-color);\n",
              "    }\n",
              "  }\n",
              "</style>\n",
              "\n",
              "  <script>\n",
              "    async function quickchart(key) {\n",
              "      const quickchartButtonEl =\n",
              "        document.querySelector('#' + key + ' button');\n",
              "      quickchartButtonEl.disabled = true;  // To prevent multiple clicks.\n",
              "      quickchartButtonEl.classList.add('colab-df-spinner');\n",
              "      try {\n",
              "        const charts = await google.colab.kernel.invokeFunction(\n",
              "            'suggestCharts', [key], {});\n",
              "      } catch (error) {\n",
              "        console.error('Error during call to suggestCharts:', error);\n",
              "      }\n",
              "      quickchartButtonEl.classList.remove('colab-df-spinner');\n",
              "      quickchartButtonEl.classList.add('colab-df-quickchart-complete');\n",
              "    }\n",
              "    (() => {\n",
              "      let quickchartButtonEl =\n",
              "        document.querySelector('#df-52bed1f0-1c62-4f5a-8dbd-afadfde34622 button');\n",
              "      quickchartButtonEl.style.display =\n",
              "        google.colab.kernel.accessAllowed ? 'block' : 'none';\n",
              "    })();\n",
              "  </script>\n",
              "</div>\n",
              "    </div>\n",
              "  </div>\n"
            ],
            "text/plain": [
              "   Id Category      Topic          Source  \\\n",
              "0   1     Fake  Education  El Ruinaversal   \n",
              "1   2     Fake  Education     Hay noticia   \n",
              "2   3     Fake  Education  El Ruinaversal   \n",
              "3   4     True  Education    EL UNIVERSAL   \n",
              "4   5     Fake  Education          Lamula   \n",
              "\n",
              "                                            Headline  \\\n",
              "0  RAE INCLUIRÁ LA PALABRA \"LADY\" EN EL DICCIONAR...   \n",
              "1            La palabra \"haiga\", aceptada por la RAE   \n",
              "2  YORDI ROSADO ESCRIBIRÁ Y DISEÑARÁ LOS NUEVOS L...   \n",
              "3  UNAM capacitará a maestros para aprobar prueba...   \n",
              "4  pretenden aprobar libros escolares con conteni...   \n",
              "\n",
              "                                                Text  \\\n",
              "0  RAE INCLUIRÁ LA PALABRA \"LADY\" EN EL DICCIONAR...   \n",
              "1  La palabra \"haiga\", aceptada por la RAE La Rea...   \n",
              "2  YORDI ROSADO ESCRIBIRÁ Y DISEÑARÁ LOS NUEVOS L...   \n",
              "3  UNAM capacitará a maestros para aprobar prueba...   \n",
              "4  Alerta: pretenden aprobar libros escolares con...   \n",
              "\n",
              "                                                Link  \n",
              "0  http://www.elruinaversal.com/2017/06/10/rae-in...  \n",
              "1  https://haynoticia.es/la-palabra-haiga-aceptad...  \n",
              "2  http://www.elruinaversal.com/2018/05/06/yordi-...  \n",
              "3  http://www.eluniversal.com.mx/articulo/nacion/...  \n",
              "4  https://redaccion.lamula.pe/2018/06/19/memoria...  "
            ]
          },
          "execution_count": 8,
          "metadata": {},
          "output_type": "execute_result"
        }
      ],
      "source": [
        "train.head()"
      ]
    },
    {
      "cell_type": "code",
      "execution_count": 7,
      "metadata": {
        "id": "EUmV9tjEOGzk"
      },
      "outputs": [],
      "source": [
        "test = pd.read_excel(\"test.xlsx\")"
      ]
    },
    {
      "cell_type": "code",
      "execution_count": 9,
      "metadata": {
        "id": "XfZRg8y3NJfu"
      },
      "outputs": [],
      "source": [
        "train,val = train_test_split(train, test_size=0.20, random_state=42)\n",
        "#save the data\n"
      ]
    },
    {
      "cell_type": "code",
      "execution_count": 13,
      "metadata": {
        "colab": {
          "base_uri": "https://localhost:8080/"
        },
        "id": "pQEPQu3pNJiJ",
        "outputId": "9d47d32c-639c-4352-a0d6-0b7d5b43a1f4"
      },
      "outputs": [
        {
          "name": "stdout",
          "output_type": "stream",
          "text": [
            "text:  218                    La inutilidad de tomar tanta agua\n",
            "18     El consentimiento sexual deberá de ser por esc...\n",
            "567    Gobierno de Canadá exige a México que se rinda...\n",
            "408        Promete AMLO invitar al Papa si gana elección\n",
            "657    No quiero a MI PAÍS, NO me INTERESA\" Kate del ...\n",
            "Name: Headline, dtype: object\n"
          ]
        }
      ],
      "source": [
        "print('text: ', train.iloc[:5,4])\n",
        "#print('label: ', label.numpy())"
      ]
    },
    {
      "cell_type": "code",
      "execution_count": 14,
      "metadata": {
        "colab": {
          "base_uri": "https://localhost:8080/"
        },
        "id": "GU1xIudjNJkv",
        "outputId": "c3067736-e0a6-4aec-8ed6-2cceb190e0c7"
      },
      "outputs": [
        {
          "name": "stdout",
          "output_type": "stream",
          "text": [
            "label 218    True\n",
            "18     Fake\n",
            "567    Fake\n",
            "408    True\n",
            "657    Fake\n",
            "Name: Category, dtype: object\n"
          ]
        }
      ],
      "source": [
        "print('label', train.iloc[:5,1])"
      ]
    },
    {
      "cell_type": "code",
      "execution_count": 27,
      "metadata": {
        "colab": {
          "base_uri": "https://localhost:8080/",
          "height": 74
        },
        "id": "ehq0ZQFZV8Kr",
        "outputId": "b668df33-d573-40ed-d66f-244238e3d018"
      },
      "outputs": [
        {
          "data": {
            "text/html": [
              "<style>#sk-container-id-1 {color: black;background-color: white;}#sk-container-id-1 pre{padding: 0;}#sk-container-id-1 div.sk-toggleable {background-color: white;}#sk-container-id-1 label.sk-toggleable__label {cursor: pointer;display: block;width: 100%;margin-bottom: 0;padding: 0.3em;box-sizing: border-box;text-align: center;}#sk-container-id-1 label.sk-toggleable__label-arrow:before {content: \"▸\";float: left;margin-right: 0.25em;color: #696969;}#sk-container-id-1 label.sk-toggleable__label-arrow:hover:before {color: black;}#sk-container-id-1 div.sk-estimator:hover label.sk-toggleable__label-arrow:before {color: black;}#sk-container-id-1 div.sk-toggleable__content {max-height: 0;max-width: 0;overflow: hidden;text-align: left;background-color: #f0f8ff;}#sk-container-id-1 div.sk-toggleable__content pre {margin: 0.2em;color: black;border-radius: 0.25em;background-color: #f0f8ff;}#sk-container-id-1 input.sk-toggleable__control:checked~div.sk-toggleable__content {max-height: 200px;max-width: 100%;overflow: auto;}#sk-container-id-1 input.sk-toggleable__control:checked~label.sk-toggleable__label-arrow:before {content: \"▾\";}#sk-container-id-1 div.sk-estimator input.sk-toggleable__control:checked~label.sk-toggleable__label {background-color: #d4ebff;}#sk-container-id-1 div.sk-label input.sk-toggleable__control:checked~label.sk-toggleable__label {background-color: #d4ebff;}#sk-container-id-1 input.sk-hidden--visually {border: 0;clip: rect(1px 1px 1px 1px);clip: rect(1px, 1px, 1px, 1px);height: 1px;margin: -1px;overflow: hidden;padding: 0;position: absolute;width: 1px;}#sk-container-id-1 div.sk-estimator {font-family: monospace;background-color: #f0f8ff;border: 1px dotted black;border-radius: 0.25em;box-sizing: border-box;margin-bottom: 0.5em;}#sk-container-id-1 div.sk-estimator:hover {background-color: #d4ebff;}#sk-container-id-1 div.sk-parallel-item::after {content: \"\";width: 100%;border-bottom: 1px solid gray;flex-grow: 1;}#sk-container-id-1 div.sk-label:hover label.sk-toggleable__label {background-color: #d4ebff;}#sk-container-id-1 div.sk-serial::before {content: \"\";position: absolute;border-left: 1px solid gray;box-sizing: border-box;top: 0;bottom: 0;left: 50%;z-index: 0;}#sk-container-id-1 div.sk-serial {display: flex;flex-direction: column;align-items: center;background-color: white;padding-right: 0.2em;padding-left: 0.2em;position: relative;}#sk-container-id-1 div.sk-item {position: relative;z-index: 1;}#sk-container-id-1 div.sk-parallel {display: flex;align-items: stretch;justify-content: center;background-color: white;position: relative;}#sk-container-id-1 div.sk-item::before, #sk-container-id-1 div.sk-parallel-item::before {content: \"\";position: absolute;border-left: 1px solid gray;box-sizing: border-box;top: 0;bottom: 0;left: 50%;z-index: -1;}#sk-container-id-1 div.sk-parallel-item {display: flex;flex-direction: column;z-index: 1;position: relative;background-color: white;}#sk-container-id-1 div.sk-parallel-item:first-child::after {align-self: flex-end;width: 50%;}#sk-container-id-1 div.sk-parallel-item:last-child::after {align-self: flex-start;width: 50%;}#sk-container-id-1 div.sk-parallel-item:only-child::after {width: 0;}#sk-container-id-1 div.sk-dashed-wrapped {border: 1px dashed gray;margin: 0 0.4em 0.5em 0.4em;box-sizing: border-box;padding-bottom: 0.4em;background-color: white;}#sk-container-id-1 div.sk-label label {font-family: monospace;font-weight: bold;display: inline-block;line-height: 1.2em;}#sk-container-id-1 div.sk-label-container {text-align: center;}#sk-container-id-1 div.sk-container {/* jupyter's `normalize.less` sets `[hidden] { display: none; }` but bootstrap.min.css set `[hidden] { display: none !important; }` so we also need the `!important` here to be able to override the default hidden behavior on the sphinx rendered scikit-learn.org. See: https://github.com/scikit-learn/scikit-learn/issues/21755 */display: inline-block !important;position: relative;}#sk-container-id-1 div.sk-text-repr-fallback {display: none;}</style><div id=\"sk-container-id-1\" class=\"sk-top-container\"><div class=\"sk-text-repr-fallback\"><pre>LabelEncoder()</pre><b>In a Jupyter environment, please rerun this cell to show the HTML representation or trust the notebook. <br />On GitHub, the HTML representation is unable to render, please try loading this page with nbviewer.org.</b></div><div class=\"sk-container\" hidden><div class=\"sk-item\"><div class=\"sk-estimator sk-toggleable\"><input class=\"sk-toggleable__control sk-hidden--visually\" id=\"sk-estimator-id-1\" type=\"checkbox\" checked><label for=\"sk-estimator-id-1\" class=\"sk-toggleable__label sk-toggleable__label-arrow\">LabelEncoder</label><div class=\"sk-toggleable__content\"><pre>LabelEncoder()</pre></div></div></div></div></div>"
            ],
            "text/plain": [
              "LabelEncoder()"
            ]
          },
          "execution_count": 27,
          "metadata": {},
          "output_type": "execute_result"
        }
      ],
      "source": [
        "le.fit(train['Category'])"
      ]
    },
    {
      "cell_type": "code",
      "execution_count": 31,
      "metadata": {
        "colab": {
          "base_uri": "https://localhost:8080/"
        },
        "id": "Jp5Nv8b9WGSB",
        "outputId": "975e049d-5ca3-4baf-af8d-27e7d60ad8d6"
      },
      "outputs": [
        {
          "name": "stdout",
          "output_type": "stream",
          "text": [
            "{'Fake': 0, 'True': 1}\n"
          ]
        }
      ],
      "source": [
        "le_name_mapping = dict(zip(le.classes_, le.transform(le.classes_)))\n",
        "print(le_name_mapping)"
      ]
    },
    {
      "cell_type": "code",
      "execution_count": 55,
      "metadata": {
        "id": "KVaXP_yqXHmT"
      },
      "outputs": [],
      "source": [
        "train['tipo'] = le.fit_transform(train.Category.values)\n",
        "val['tipo'] = le.fit_transform(val.Category.values)"
      ]
    },
    {
      "cell_type": "code",
      "execution_count": null,
      "metadata": {
        "id": "oOip2cb-cfN1"
      },
      "outputs": [],
      "source": []
    },
    {
      "cell_type": "code",
      "execution_count": null,
      "metadata": {
        "id": "zYo1NsxpXTEB"
      },
      "outputs": [],
      "source": [
        "train.head()"
      ]
    },
    {
      "cell_type": "code",
      "execution_count": 38,
      "metadata": {
        "colab": {
          "base_uri": "https://localhost:8080/",
          "height": 503
        },
        "id": "fRfpPUqDXbcC",
        "outputId": "071ba6ca-1147-40d6-b1ce-d2f140067938"
      },
      "outputs": [
        {
          "name": "stdout",
          "output_type": "stream",
          "text": [
            "True    273\n",
            "Fake    267\n",
            "Name: Category, dtype: int64\n"
          ]
        },
        {
          "data": {
            "image/png": "[encoded data removed]",
            "text/plain": [
              "<Figure size 640x480 with 1 Axes>"
            ]
          },
          "metadata": {},
          "output_type": "display_data"
        }
      ],
      "source": [
        "sns.countplot(x= train.Category)\n",
        "print(train[\"Category\"].value_counts())"
      ]
    },
    {
      "cell_type": "code",
      "execution_count": 48,
      "metadata": {
        "id": "X1si9IsQX2WV"
      },
      "outputs": [],
      "source": [
        "from nltk.corpus import stopwords\n",
        "from wordcloud import WordCloud,STOPWORDS\n",
        "# nltk.download('stopwords')"
      ]
    },
    {
      "cell_type": "code",
      "execution_count": 56,
      "metadata": {
        "id": "3LUx9OHhbmao"
      },
      "outputs": [],
      "source": [
        "train_dataset = tf.data.Dataset.from_tensor_slices((train[\"Text\"], train['tipo']))\n",
        "val_dataset = tf.data.Dataset.from_tensor_slices((val[\"Text\"], val['tipo']))\n"
      ]
    },
    {
      "cell_type": "code",
      "execution_count": 53,
      "metadata": {
        "colab": {
          "base_uri": "https://localhost:8080/"
        },
        "id": "Jd77uEHWbzA2",
        "outputId": "e7b40d48-db48-4b33-8746-2eb1fc08803a"
      },
      "outputs": [
        {
          "name": "stdout",
          "output_type": "stream",
          "text": [
            "(<tf.Tensor: shape=(), dtype=string, numpy=b'La inutilidad de tomar tanta agua\\nLos expertos recomiendan que tomemos dos litros -ocho vasos- de l\\xc3\\xadquidos cada d\\xc3\\xada para tener una salud \\xc3\\xb3ptima.\\nNuestro consumo diario de l\\xc3\\xadquidos puede incluir bebidas como caf\\xc3\\xa9, t\\xc3\\xa9, y jugos adem\\xc3\\xa1s del agua.\\nPero tal como sugiere un nuevo estudio en Australia, esta recomendaci\\xc3\\xb3n ha sido malinterpretada y creemos, err\\xc3\\xb3neamente, que debemos tomar espec\\xc3\\xadficamente agua, ocho vasos de agua.\\nNuestros dos litros de l\\xc3\\xadquidos diarios deben incluir todo el caf\\xc3\\xa9, t\\xc3\\xa9, jugos y otras bebidas, afirma el informe publicado en Australian and New Zealand Journal of Public Health (Revista de Salud P\\xc3\\xbablica de Australia y Nueva Zelanda).\\nPorque estamos bebiendo in\\xc3\\xbatilmente demasiada agua, principalmente agua embotellada, agrega.\\nTal como expresa el profesor Spero Tsindos, del Departamento de Diet\\xc3\\xa9tica y Nutrici\\xc3\\xb3n Humana de la Universidad de La Trobe, en Melbourne, \"esta malinterpretaci\\xc3\\xb3n de beber espec\\xc3\\xadficamente dos litros de agua ha conducido a un crecimiento gradual en el uso de agua embotellada\".\\n\"Pero la industria nos ha hecho creer que beber agua puede contribuir a perder peso, reducir el consumo de bebidas azucaradas y, consumida en una botella, el agua es a\\xc3\\xban m\\xc3\\xa1s sana\".\\nConsumo \"in\\xc3\\xbatil\"\\nEl cient\\xc3\\xadfico quer\\xc3\\xada investigar cu\\xc3\\xa1ntos l\\xc3\\xadquidos bebe la gente normalmente y si realmente necesitamos suplementar nuestro consumo con dos litros adicionales diarios.\\nTras revisar el Sondeo Nacional de Nutrici\\xc3\\xb3n de Australia -que desde *NUMBER* ha seguido los h\\xc3\\xa1bitos alimenticios de los australianos- encontr\\xc3\\xb3 que las mujeres beb\\xc3\\xadan en promedio *NUMBER* litros de l\\xc3\\xadquidos y los hombres *NUMBER* litros diarios.\\nEsto inclu\\xc3\\xada los fluidos que se encuentran en verduras, frutas y otros alimentos.\\nCuando se tomaron en cuenta s\\xc3\\xb3lo las bebidas -es decir agua, t\\xc3\\xa9, caf\\xc3\\xa9, jugos, etc.- se encontr\\xc3\\xb3 que el consumo diario \"\\xc3\\xb3ptimo\" era de *NUMBER* litros en los hombres y *NUMBER* litros en las mujeres.\\nEsto quiere decir que si suplementamos nuestro consumo diario de l\\xc3\\xadquidos con los dos litros adicionales que recomiendan los expertos, \"estamos bebiendo demasiada agua\", se\\xc3\\xb1ala el profesor Tsindos.\\nSeg\\xc3\\xban el investigador sentarse a beber una cantidad enorme de agua para alcanzar el consumo recomendado diario es \"in\\xc3\\xbatil\" porque el agua no se distribuye donde es necesario en el organismo.\\n\"Esto no tiene ning\\xc3\\xban efecto de hidrataci\\xc3\\xb3n, todo lo que el agua hace es diluirse en la orina\", se\\xc3\\xb1ala,\\n\"Si usted se siente sediento por supuesto que debe tomar una bebida. Pero no tiene que ser agua\" expresa el profesor Tsindos.\\n\"No estoy diciendo que no beba agua. Lo que digo es que la necesidad de beber dos litros de agua regularmente es un mito total\".\\n\"Debemos educar al p\\xc3\\xbablico general de que las bebidas como el t\\xc3\\xa9 y el caf\\xc3\\xa9, a pesar de su contenido de cafe\\xc3\\xadna, no conducen a la deshidrataci\\xc3\\xb3n y contribuyen a las necesidades de fluidos diarios de una persona\" agrega.\\nEl estudio del profesor Tsindos apoya otras investigaciones pasadas que muestran que beber ocho vasos de agua diariamente \"es un mito\".\\nEn *NUMBER*, la doctora Margaret McCartney, m\\xc3\\xa9dico general de Glasgow, llev\\xc3\\xb3 a cabo una revisi\\xc3\\xb3n de los estudios disponibles sobre si realmente los humanos necesitamos beber dos litros de agua para no deshidratarnos.\\nEncontr\\xc3\\xb3 que todas las recomendaciones y afirmaciones de que no bebemos suficiente agua \"son una tonter\\xc3\\xada\" y \"no hay evidencia cient\\xc3\\xadfica que apoye esas afirmaciones\".\\nTal como expres\\xc3\\xb3 la investigadora \"los ocho vasos de agua al d\\xc3\\xada como algo necesario para la salud, es un mito\".\\n\"El agua de grifo es una buena bebida y debemos beber todo lo que deseamos o necesitemos cuando tenemos sed\".\\n\"Pero la idea de que hay una cantidad \"perfecta\" que debemos beber no est\\xc3\\xa1 basada en evidencia\".'>, <tf.Tensor: shape=(), dtype=int64, numpy=1>)\n",
            "(<tf.Tensor: shape=(), dtype=string, numpy=b'El consentimiento sexual deber\\xc3\\xa1 de ser por escrito\\nEn un intento por eliminar la violencia sexual dentro de las parejas, la C\\xc3\\xa1mara de Diputados una nueva ley que dispone que cualquier forma de relaci\\xc3\\xb3n sexual, incluyendo besos de lengua o fajes amistosos, requerir\\xc3\\xa1n de un acuerdo por escrito, firmado por ambas partes, que especifique que hay un consentimiento mutuo y libre por parte de los involucrados, de forma que no existan dudas al respecto.\\nEl documento deber\\xc3\\xa1 incluir el nombre, edad, tel\\xc3\\xa9fono y direcci\\xc3\\xb3n de cada uno de los participantes, as\\xc3\\xad como su n\\xc3\\xbamero de credencial del INE, para acreditar la mayor\\xc3\\xada de edad. Se necesitar\\xc3\\xa1n siete copias firmadas por los interesados y de dos testigos que acrediten que no hay coerci\\xc3\\xb3n de por medio.\\nEl usuario tendr\\xc3\\xa1 un plazo de una hora tras del acto para entregar el documento f\\xc3\\xadsico, pues de otra forma quedar\\xc3\\xa1 invalidado. En caso de tr\\xc3\\xados, org\\xc3\\xadas o similares, se tendr\\xc3\\xa1 que generar una copia por cada uno de los implicados.\\nEsta ley aplicar\\xc3\\xa1 tanto para parejas casuales como matrimonios u otras relaciones ya establecidas, a las que se les recomienda tener un archivo para llevar un seguimiento de su vida sexual, de modo que se le tenga a la mano en caso de duda.\\nLos diputados coinciden en que, de esa forma, se evitar\\xc3\\xa1n malos entendidos y la sociedad avanzar\\xc3\\xa1 a una situaci\\xc3\\xb3n de entendimiento y felicidad.'>, <tf.Tensor: shape=(), dtype=int64, numpy=0>)\n",
            "(<tf.Tensor: shape=(), dtype=string, numpy=b'Gobierno de Canad\\xc3\\xa1 exige a M\\xc3\\xa9xico que se rinda cuentas de los donativos hechos para los damnificados por el terremoto.\\nEmpresas, celebridades y famosos de todo el mundo han donado en dinero, m\\xc3\\xa1s de *NUMBER* millones de d\\xc3\\xb3lares; y cuando tanto dinero llega al pa\\xc3\\xads en un periodo de tiempo tan corto, el an\\xc3\\xa1lisis del uso de los fondos debe estar liderando cualquier tipo de lista de prioridades para garantizar que el dinero se invierta de forma adecuada y evitar el abuso del poder y acciones no \\xc3\\xa9ticas\\'\\', dijo el gobierno Canadiense. La Embajada de Canad\\xc3\\xa1 en M\\xc3\\xa9xico ha pedido este jueves al gobierno mexicano que se lleve a cabo una auditor\\xc3\\xada exhaustiva de las donaciones enviadas para los damnificados por los recientes terremotos ocurridos en M\\xc3\\xa9xico.\\nEn su comunicado, se ha destacado que \"hay muy poca transparencia en la gesti\\xc3\\xb3n de los fondos para los afectados\", por lo que ha indicado que \"el primer paso debe ser llevar a cabo una auditor\\xc3\\xada completa que debe incluir todas las donaciones recibidas, c\\xc3\\xb3mo se han repartido y si han sido eficientes\".\\nAsimismo, el sindicato del sector privado m\\xc3\\xa1s grande de Canad\\xc3\\xa1, la Unifor, dijo que \"El Gobierno de EPN deben abrir inmediatamente al escrutinio p\\xc3\\xbablico las cantidades recibidas y c\\xc3\\xb3mo est\\xc3\\xa1n siendo invertidas. Se debe hacer en todos los estados del pa\\xc3\\xads para garantizar que el dinero es gastado de forma adecuada\". agreg\\xc3\\xb3.\\nAdem\\xc3\\xa1s agreg\\xc3\\xb3 que \\'\\'los d\\xc3\\xa9biles sistemas de gesti\\xc3\\xb3n financieros y los altos niveles de corrupci\\xc3\\xb3n en M\\xc3\\xa9xico crean muchas oportunidades para el abuso de poder, la corrupci\\xc3\\xb3n y las acciones no \\xc3\\xa9ticas que limiten la capacidad de las donaciones de ser usadas de forma efectiva\".\\nPor \\xc3\\xbaltimo, el gobierno canadiense ha afirmado que \"los desastres naturales de esta magnitud requiere respuestas r\\xc3\\xa1pidas, pero tambi\\xc3\\xa9n salvaguardas ante la corrupci\\xc3\\xb3n para garantizar que el dinero se invierte de forma adecuada\".\\nMexicanos rechazan que Gobierno maneje fondos de reconstrucci\\xc3\\xb3n, dice sondeo El *NUMBER* % de los mexicanos piensa que el Gobierno no debe manejar los fondos de reconstrucci\\xc3\\xb3n para los damnificados por el sismo del pasado *NUMBER* de septiembre, se\\xc3\\xb1al\\xc3\\xb3 hoy un estudio de las encuestadoras GEA-ISA.\\nLos fondos deben ser manejados por \"un organismo independiente, sin miembros del Gobierno\", se\\xc3\\xb1alaron en tanto que un *NUMBER* % consider\\xc3\\xb3 que pueden ser administrados por un organismo gubernamental junto con ciudadanos independientes.\\nLa mayor\\xc3\\xada de los mexicanos (*NUMBER* %) cree que la sociedad civil hizo m\\xc3\\xa1s por las v\\xc3\\xadctimas, seguida por las Fuerzas Armadas con un *NUMBER* %, indic\\xc3\\xb3 el estudio al destacar que el *NUMBER* % de los mexicanos particip\\xc3\\xb3 en rescates o con apoyos a los damnificados.\\nEn change.org, la usuaria Elizabeth, est\\xc3\\xa1 juntando firmas para exigir al gobierno mexicano que rinda cuentas de las donaciones extranjeras.\\n\\xc2\\xbfEn d\\xc3\\xb3nde est\\xc3\\xa1 el dinero de las donaciones, y a d\\xc3\\xb3nde va a ir a parar?\\nElla tambi\\xc3\\xa9n se dirige al pueblo de M\\xc3\\xa9xico y en su petici\\xc3\\xb3n se\\xc3\\xb1ala que debido a las amables donaciones de los extranjeros, enti\\xc3\\xa9ndase empresas, y/o personas que han colaborado para la reconstrucci\\xc3\\xb3n de M\\xc3\\xa9xico, as\\xc3\\xad como la aportaci\\xc3\\xb3n del dinero de las campa\\xc3\\xb1as de los partidos pol\\xc3\\xadticos que ya aceptaron donar. Se le solicita a las autoridades implementar un plan de transparencia y gastos, con rendici\\xc3\\xb3n de cuentas claras, que es un derecho del pueblo Mexicano, ya que la devastaci\\xc3\\xb3n, ha dejado sin hogar a personas de: Baja California sur, Chiapas, Oacaxa, Morelos, Tabasco, Estado de M\\xc3\\xa9xico, Ciudad de M\\xc3\\xa9xico.\\'\\''>, <tf.Tensor: shape=(), dtype=int64, numpy=0>)\n"
          ]
        }
      ],
      "source": [
        "for row in train_dataset.take(3):\n",
        "  print(row)"
      ]
    },
    {
      "cell_type": "code",
      "execution_count": 54,
      "metadata": {
        "colab": {
          "base_uri": "https://localhost:8080/"
        },
        "id": "ads0HGjQb_H1",
        "outputId": "f0014d55-7f84-48d5-b552-52533d4e644e"
      },
      "outputs": [
        {
          "name": "stdout",
          "output_type": "stream",
          "text": [
            "text:  b'La inutilidad de tomar tanta agua\\nLos expertos recomiendan que tomemos dos litros -ocho vasos- de l\\xc3\\xadquidos cada d\\xc3\\xada para tener una salud \\xc3\\xb3ptima.\\nNuestro consumo diario de l\\xc3\\xadquidos puede incluir bebidas como caf\\xc3\\xa9, t\\xc3\\xa9, y jugos adem\\xc3\\xa1s del agua.\\nPero tal como sugiere un nuevo estudio en Australia, esta recomendaci\\xc3\\xb3n ha sido malinterpretada y creemos, err\\xc3\\xb3neamente, que debemos tomar espec\\xc3\\xadficamente agua, ocho vasos de agua.\\nNuestros dos litros de l\\xc3\\xadquidos diarios deben incluir todo el caf\\xc3\\xa9, t\\xc3\\xa9, jugos y otras bebidas, afirma el informe publicado en Australian and New Zealand Journal of Public Health (Revista de Salud P\\xc3\\xbablica de Australia y Nueva Zelanda).\\nPorque estamos bebiendo in\\xc3\\xbatilmente demasiada agua, principalmente agua embotellada, agrega.\\nTal como expresa el profesor Spero Tsindos, del Departamento de Diet\\xc3\\xa9tica y Nutrici\\xc3\\xb3n Humana de la Universidad de La Trobe, en Melbourne, \"esta malinterpretaci\\xc3\\xb3n de beber espec\\xc3\\xadficamente dos litros de agua ha conducido a un crecimiento gradual en el uso de agua embotellada\".\\n\"Pero la industria nos ha hecho creer que beber agua puede contribuir a perder peso, reducir el consumo de bebidas azucaradas y, consumida en una botella, el agua es a\\xc3\\xban m\\xc3\\xa1s sana\".\\nConsumo \"in\\xc3\\xbatil\"\\nEl cient\\xc3\\xadfico quer\\xc3\\xada investigar cu\\xc3\\xa1ntos l\\xc3\\xadquidos bebe la gente normalmente y si realmente necesitamos suplementar nuestro consumo con dos litros adicionales diarios.\\nTras revisar el Sondeo Nacional de Nutrici\\xc3\\xb3n de Australia -que desde *NUMBER* ha seguido los h\\xc3\\xa1bitos alimenticios de los australianos- encontr\\xc3\\xb3 que las mujeres beb\\xc3\\xadan en promedio *NUMBER* litros de l\\xc3\\xadquidos y los hombres *NUMBER* litros diarios.\\nEsto inclu\\xc3\\xada los fluidos que se encuentran en verduras, frutas y otros alimentos.\\nCuando se tomaron en cuenta s\\xc3\\xb3lo las bebidas -es decir agua, t\\xc3\\xa9, caf\\xc3\\xa9, jugos, etc.- se encontr\\xc3\\xb3 que el consumo diario \"\\xc3\\xb3ptimo\" era de *NUMBER* litros en los hombres y *NUMBER* litros en las mujeres.\\nEsto quiere decir que si suplementamos nuestro consumo diario de l\\xc3\\xadquidos con los dos litros adicionales que recomiendan los expertos, \"estamos bebiendo demasiada agua\", se\\xc3\\xb1ala el profesor Tsindos.\\nSeg\\xc3\\xban el investigador sentarse a beber una cantidad enorme de agua para alcanzar el consumo recomendado diario es \"in\\xc3\\xbatil\" porque el agua no se distribuye donde es necesario en el organismo.\\n\"Esto no tiene ning\\xc3\\xban efecto de hidrataci\\xc3\\xb3n, todo lo que el agua hace es diluirse en la orina\", se\\xc3\\xb1ala,\\n\"Si usted se siente sediento por supuesto que debe tomar una bebida. Pero no tiene que ser agua\" expresa el profesor Tsindos.\\n\"No estoy diciendo que no beba agua. Lo que digo es que la necesidad de beber dos litros de agua regularmente es un mito total\".\\n\"Debemos educar al p\\xc3\\xbablico general de que las bebidas como el t\\xc3\\xa9 y el caf\\xc3\\xa9, a pesar de su contenido de cafe\\xc3\\xadna, no conducen a la deshidrataci\\xc3\\xb3n y contribuyen a las necesidades de fluidos diarios de una persona\" agrega.\\nEl estudio del profesor Tsindos apoya otras investigaciones pasadas que muestran que beber ocho vasos de agua diariamente \"es un mito\".\\nEn *NUMBER*, la doctora Margaret McCartney, m\\xc3\\xa9dico general de Glasgow, llev\\xc3\\xb3 a cabo una revisi\\xc3\\xb3n de los estudios disponibles sobre si realmente los humanos necesitamos beber dos litros de agua para no deshidratarnos.\\nEncontr\\xc3\\xb3 que todas las recomendaciones y afirmaciones de que no bebemos suficiente agua \"son una tonter\\xc3\\xada\" y \"no hay evidencia cient\\xc3\\xadfica que apoye esas afirmaciones\".\\nTal como expres\\xc3\\xb3 la investigadora \"los ocho vasos de agua al d\\xc3\\xada como algo necesario para la salud, es un mito\".\\n\"El agua de grifo es una buena bebida y debemos beber todo lo que deseamos o necesitemos cuando tenemos sed\".\\n\"Pero la idea de que hay una cantidad \"perfecta\" que debemos beber no est\\xc3\\xa1 basada en evidencia\".'\n",
            "label:  1\n"
          ]
        }
      ],
      "source": [
        "for example, label in train_dataset.take(1):\n",
        "  print('text: ', example.numpy())\n",
        "  print('label: ', label.numpy())"
      ]
    },
    {
      "cell_type": "code",
      "execution_count": 57,
      "metadata": {
        "id": "c565YIdxcqp_"
      },
      "outputs": [],
      "source": [
        "BUFFER_SIZE = 10000\n",
        "BATCH_SIZE = 64"
      ]
    },
    {
      "cell_type": "code",
      "execution_count": 58,
      "metadata": {
        "id": "FhuNwIh6cR7y"
      },
      "outputs": [],
      "source": [
        "train_dataset = train_dataset.shuffle(BUFFER_SIZE).batch(BATCH_SIZE).prefetch(tf.data.AUTOTUNE)\n",
        "test_dataset = val_dataset.batch(BATCH_SIZE).prefetch(tf.data.AUTOTUNE)"
      ]
    },
    {
      "cell_type": "code",
      "execution_count": 59,
      "metadata": {
        "id": "zmDgae47RJkc"
      },
      "outputs": [],
      "source": [
        "VOCAB_SIZE = 1000\n",
        "encoder = tf.keras.layers.TextVectorization(\n",
        "    max_tokens=VOCAB_SIZE)\n",
        "encoder.adapt(train_dataset.map(lambda text, label: text))"
      ]
    },
    {
      "cell_type": "code",
      "execution_count": 60,
      "metadata": {
        "colab": {
          "base_uri": "https://localhost:8080/"
        },
        "id": "uz8O8lCGR2ou",
        "outputId": "729aaf6f-dc9a-4b4c-bd38-16194df0a79b"
      },
      "outputs": [
        {
          "data": {
            "text/plain": [
              "array(['', '[UNK]', 'de', 'la', 'que', 'el', 'en', 'y', 'a', 'los', 'se',\n",
              "       'del', 'number', 'por', 'un', 'con', 'las', 'para', 'una', 'no'],\n",
              "      dtype='<U15')"
            ]
          },
          "execution_count": 60,
          "metadata": {},
          "output_type": "execute_result"
        }
      ],
      "source": [
        "vocab = np.array(encoder.get_vocabulary())\n",
        "vocab[:20]"
      ]
    },
    {
      "cell_type": "code",
      "execution_count": 61,
      "metadata": {
        "colab": {
          "base_uri": "https://localhost:8080/"
        },
        "id": "HggMElDPR21c",
        "outputId": "6d73856d-3ab4-4a3f-c588-5d6f9ac4a5c3"
      },
      "outputs": [
        {
          "data": {
            "text/plain": [
              "array([ 1,  8, 58])"
            ]
          },
          "execution_count": 61,
          "metadata": {},
          "output_type": "execute_result"
        }
      ],
      "source": [
        "encoder(\"Hola a todos\").numpy()"
      ]
    },
    {
      "cell_type": "code",
      "execution_count": 62,
      "metadata": {
        "id": "TePnLwUIU8jf"
      },
      "outputs": [],
      "source": [
        "model = tf.keras.Sequential([\n",
        "    encoder,\n",
        "    tf.keras.layers.Embedding(\n",
        "        input_dim=len(encoder.get_vocabulary()),\n",
        "        output_dim=64,\n",
        "        # Use masking to handle the variable sequence lengths\n",
        "        mask_zero=True),\n",
        "    tf.keras.layers.Bidirectional(tf.keras.layers.LSTM(64)),\n",
        "    tf.keras.layers.Dense(64, activation='relu'),\n",
        "    tf.keras.layers.Dense(1)\n",
        "])"
      ]
    }
  ],
  "metadata": {
    "colab": {
      "provenance": []
    },
    "kernelspec": {
      "display_name": "Python 3",
      "name": "python3"
    },
    "language_info": {
      "codemirror_mode": {
        "name": "ipython",
        "version": 3
      },
      "file_extension": ".py",
      "mimetype": "text/x-python",
      "name": "python",
      "nbconvert_exporter": "python",
      "pygments_lexer": "ipython3",
      "version": "3.11.4"
    }
  },
  "nbformat": 4,
  "nbformat_minor": 0
}
