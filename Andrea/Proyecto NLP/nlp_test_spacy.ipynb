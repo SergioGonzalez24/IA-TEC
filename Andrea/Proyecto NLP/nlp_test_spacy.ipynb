{
 "cells": [
  {
   "cell_type": "code",
   "execution_count": 16,
   "metadata": {
    "ExecuteTime": {
     "end_time": "2023-11-23T06:43:10.477371Z",
     "start_time": "2023-11-23T06:43:10.452622Z"
    }
   },
   "outputs": [],
   "source": [
    "# %pip install -U spacy\n",
    "# %pip install spacy-transformers"
   ]
  },
  {
   "cell_type": "code",
   "execution_count": 17,
   "outputs": [],
   "source": [
    "# !python -m spacy download es_dep_news_trf"
   ],
   "metadata": {
    "collapsed": false,
    "ExecuteTime": {
     "end_time": "2023-11-23T06:43:10.479265Z",
     "start_time": "2023-11-23T06:43:10.456773Z"
    }
   }
  },
  {
   "cell_type": "code",
   "execution_count": 18,
   "outputs": [],
   "source": [
    "import spacy\n",
    "nlp = spacy.load(\"es_dep_news_trf\")\n",
    "import es_dep_news_trf\n",
    "nlp = es_dep_news_trf.load()"
   ],
   "metadata": {
    "collapsed": false,
    "ExecuteTime": {
     "end_time": "2023-11-23T06:43:12.207949Z",
     "start_time": "2023-11-23T06:43:10.459720Z"
    }
   }
  },
  {
   "cell_type": "code",
   "execution_count": 19,
   "outputs": [],
   "source": [
    "parrafo = \"\"\"\n",
    "En una tranquila tarde de otoño, el sol se ocultaba lentamente en el horizonte, tiñendo el cielo de tonos cálidos y dorados. Las hojas de los árboles crujían bajo mis pies mientras paseaba por el parque, disfrutando del suave susurro del viento entre las ramas. A lo lejos, el murmullo de un arroyo añadía una melodía suave al ambiente, creando una sensación de paz y serenidad. A medida que avanzaba, las luces de la ciudad comenzaban a parpadear, anunciando la transición de la naturaleza al bullicio urbano. En ese instante, me di cuenta de la belleza efímera de ese momento, capturando la esencia de la transición entre el día y la noche.\"\"\""
   ],
   "metadata": {
    "collapsed": false,
    "ExecuteTime": {
     "end_time": "2023-11-23T06:43:12.211711Z",
     "start_time": "2023-11-23T06:43:12.208545Z"
    }
   }
  },
  {
   "cell_type": "code",
   "execution_count": 20,
   "outputs": [],
   "source": [
    "documento = nlp(parrafo)"
   ],
   "metadata": {
    "collapsed": false,
    "ExecuteTime": {
     "end_time": "2023-11-23T06:43:12.327290Z",
     "start_time": "2023-11-23T06:43:12.214154Z"
    }
   }
  },
  {
   "cell_type": "markdown",
   "source": [
    "### Tokenización"
   ],
   "metadata": {
    "collapsed": false
   }
  },
  {
   "cell_type": "code",
   "execution_count": 21,
   "outputs": [
    {
     "name": "stdout",
     "output_type": "stream",
     "text": [
      "Tokenización por palabra: ['\\n', 'En', 'una', 'tranquila', 'tarde', 'de', 'otoño', ',', 'el', 'sol', 'se', 'ocultaba', 'lentamente', 'en', 'el', 'horizonte', ',', 'tiñendo', 'el', 'cielo', 'de', 'tonos', 'cálidos', 'y', 'dorados', '.', 'Las', 'hojas', 'de', 'los', 'árboles', 'crujían', 'bajo', 'mis', 'pies', 'mientras', 'paseaba', 'por', 'el', 'parque', ',', 'disfrutando', 'del', 'suave', 'susurro', 'del', 'viento', 'entre', 'las', 'ramas', '.', 'A', 'lo', 'lejos', ',', 'el', 'murmullo', 'de', 'un', 'arroyo', 'añadía', 'una', 'melodía', 'suave', 'al', 'ambiente', ',', 'creando', 'una', 'sensación', 'de', 'paz', 'y', 'serenidad', '.', 'A', 'medida', 'que', 'avanzaba', ',', 'las', 'luces', 'de', 'la', 'ciudad', 'comenzaban', 'a', 'parpadear', ',', 'anunciando', 'la', 'transición', 'de', 'la', 'naturaleza', 'al', 'bullicio', 'urbano', '.', 'En', 'ese', 'instante', ',', 'me', 'di', 'cuenta', 'de', 'la', 'belleza', 'efímera', 'de', 'ese', 'momento', ',', 'capturando', 'la', 'esencia', 'de', 'la', 'transición', 'entre', 'el', 'día', 'y', 'la', 'noche', '.']\n"
     ]
    }
   ],
   "source": [
    "# Tokenización por palabra\n",
    "palabras = [token.text for token in documento]\n",
    "print(\"Tokenización por palabra:\", palabras)"
   ],
   "metadata": {
    "collapsed": false,
    "ExecuteTime": {
     "end_time": "2023-11-23T06:43:12.330778Z",
     "start_time": "2023-11-23T06:43:12.327415Z"
    }
   }
  },
  {
   "cell_type": "code",
   "execution_count": 22,
   "outputs": [
    {
     "name": "stdout",
     "output_type": "stream",
     "text": [
      "\n",
      ": dep\n",
      "En: case\n",
      "una: det\n",
      "tranquila: amod\n",
      "tarde: obl\n",
      "de: case\n",
      "otoño: nmod\n",
      ",: punct\n",
      "el: det\n",
      "sol: nsubj\n",
      "se: expl:pv\n",
      "ocultaba: ROOT\n",
      "lentamente: advmod\n",
      "en: case\n",
      "el: det\n",
      "horizonte: obl\n",
      ",: punct\n",
      "tiñendo: advcl\n",
      "el: det\n",
      "cielo: obj\n",
      "de: case\n",
      "tonos: obl\n",
      "cálidos: amod\n",
      "y: cc\n",
      "dorados: conj\n",
      ".: punct\n",
      "Las: det\n",
      "hojas: nsubj\n",
      "de: case\n",
      "los: det\n",
      "árboles: nmod\n",
      "crujían: ROOT\n",
      "bajo: case\n",
      "mis: det\n",
      "pies: obl\n",
      "mientras: mark\n",
      "paseaba: advcl\n",
      "por: case\n",
      "el: det\n",
      "parque: obl\n",
      ",: punct\n",
      "disfrutando: advcl\n",
      "del: case\n",
      "suave: amod\n",
      "susurro: obj\n",
      "del: case\n",
      "viento: nmod\n",
      "entre: case\n",
      "las: det\n",
      "ramas: nmod\n",
      ".: punct\n",
      "A: advmod\n",
      "lo: fixed\n",
      "lejos: fixed\n",
      ",: punct\n",
      "el: det\n",
      "murmullo: nsubj\n",
      "de: case\n",
      "un: det\n",
      "arroyo: nmod\n",
      "añadía: ROOT\n",
      "una: det\n",
      "melodía: obj\n",
      "suave: amod\n",
      "al: case\n",
      "ambiente: obj\n",
      ",: punct\n",
      "creando: advcl\n",
      "una: det\n",
      "sensación: obj\n",
      "de: case\n",
      "paz: nmod\n",
      "y: cc\n",
      "serenidad: conj\n",
      ".: punct\n",
      "A: mark\n",
      "medida: fixed\n",
      "que: fixed\n",
      "avanzaba: advcl\n",
      ",: punct\n",
      "las: det\n",
      "luces: nsubj\n",
      "de: case\n",
      "la: det\n",
      "ciudad: nmod\n",
      "comenzaban: ROOT\n",
      "a: mark\n",
      "parpadear: xcomp\n",
      ",: punct\n",
      "anunciando: advcl\n",
      "la: det\n",
      "transición: obj\n",
      "de: case\n",
      "la: det\n",
      "naturaleza: nmod\n",
      "al: case\n",
      "bullicio: nmod\n",
      "urbano: amod\n",
      ".: punct\n",
      "En: case\n",
      "ese: det\n",
      "instante: obl\n",
      ",: punct\n",
      "me: expl:pv\n",
      "di: ROOT\n",
      "cuenta: compound\n",
      "de: case\n",
      "la: det\n",
      "belleza: obj\n",
      "efímera: amod\n",
      "de: case\n",
      "ese: det\n",
      "momento: nmod\n",
      ",: punct\n",
      "capturando: advcl\n",
      "la: det\n",
      "esencia: obj\n",
      "de: case\n",
      "la: det\n",
      "transición: nmod\n",
      "entre: case\n",
      "el: det\n",
      "día: nmod\n",
      "y: cc\n",
      "la: det\n",
      "noche: conj\n",
      ".: punct\n"
     ]
    }
   ],
   "source": [
    "# Analisis sintactico\n",
    "for palabras in documento:\n",
    "    print(f\"{palabras.text}: {palabras.dep_}\")"
   ],
   "metadata": {
    "collapsed": false,
    "ExecuteTime": {
     "end_time": "2023-11-23T06:43:12.333826Z",
     "start_time": "2023-11-23T06:43:12.331114Z"
    }
   }
  },
  {
   "cell_type": "markdown",
   "source": [],
   "metadata": {
    "collapsed": false
   }
  },
  {
   "cell_type": "code",
   "execution_count": 23,
   "outputs": [],
   "source": [],
   "metadata": {
    "collapsed": false,
    "ExecuteTime": {
     "end_time": "2023-11-23T06:43:12.337023Z",
     "start_time": "2023-11-23T06:43:12.333440Z"
    }
   }
  }
 ],
 "metadata": {
  "kernelspec": {
   "display_name": "base",
   "language": "python",
   "name": "python3"
  },
  "language_info": {
   "codemirror_mode": {
    "name": "ipython",
    "version": 3
   },
   "file_extension": ".py",
   "mimetype": "text/x-python",
   "name": "python",
   "nbconvert_exporter": "python",
   "pygments_lexer": "ipython3",
   "version": "3.11.4"
  }
 },
 "nbformat": 4,
 "nbformat_minor": 2
}
