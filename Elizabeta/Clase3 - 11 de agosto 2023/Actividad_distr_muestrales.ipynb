{
  "cells": [
    {
      "cell_type": "code",
      "execution_count": 2,
      "metadata": {
        "id": "b-wNTheB6KJx"
      },
      "outputs": [],
      "source": [
        "import numpy as np\n",
        "import matplotlib.pyplot as plt\n",
        "import pandas as pd"
      ]
    },
    {
      "cell_type": "code",
      "execution_count": 3,
      "metadata": {
        "id": "65oql-su7Aw6"
      },
      "outputs": [],
      "source": [
        "datos_parent_dist=np.array([55.20373595, 57.52750923, 57.66114026, 59.73521089, 59.89567243,\n",
        "       60.63889235, 57.30588202, 59.40232828, 56.88796626, 57.39900594,\n",
        "       57.2284022 , 52.52793451, 52.7495787 , 61.23183961, 52.04310783,\n",
        "       55.73758017, 55.00349989, 51.16763969, 50.51749811, 57.85398992,\n",
        "       52.78380508, 51.01787241, 63.96344849, 57.81857114, 55.0278911 ,\n",
        "       59.75842035, 50.6964253 , 60.55421642, 53.67766769, 53.17899296,\n",
        "       59.14898142, 49.45905773, 58.98035041, 54.3974659 , 55.33736162,\n",
        "       54.78527903, 55.18717593, 57.41939234, 58.26325847, 53.67892781,\n",
        "       59.04519274, 55.72847715, 52.24743158, 61.08673323, 56.34041024,\n",
        "       55.35331561, 57.14387249, 55.01535266, 54.90809834, 54.18715446,\n",
        "       54.49004352, 55.67130873, 56.709553  , 61.08732549, 52.31597407,\n",
        "       58.13210782, 58.94418616, 55.74978023, 54.03150684, 55.7392008 ,\n",
        "       53.51473825, 51.64093465, 52.86611421, 54.29400814, 52.64622997,\n",
        "       56.5049762 , 55.74992479, 49.7477862 , 57.92595326, 55.2413483 ,\n",
        "       57.62938127, 55.0008798 , 58.12171063, 62.93702778, 55.65248097,\n",
        "       57.03360306, 54.53900143, 53.79171996, 57.96133643, 56.77996235,\n",
        "       55.04044793, 55.0295176 , 47.62576334, 50.79541326, 56.66158417,\n",
        "       62.79094529, 58.57263758, 53.25918724, 56.2416683 , 55.57965655,\n",
        "       58.07409118, 47.08019659, 57.13777374, 53.34646709, 56.81129538,\n",
        "       52.87941174, 52.66910207, 48.691335  , 55.45259425, 54.94405894,\n",
        "       53.12313397, 56.89373026, 52.20543461, 58.05039168, 53.84755575,\n",
        "       51.0290174 , 56.0765155 , 54.31752407, 51.98142009, 63.6138796 ,\n",
        "       50.27503032, 55.48598592, 53.75293174, 59.64150234, 54.44561767,\n",
        "       56.40372051, 58.95291555, 54.58489068, 54.92345278, 52.23690847,\n",
        "       62.40182534, 59.88670928, 58.25614004, 55.92809341, 58.68156855,\n",
        "       48.49172409, 49.67872138, 59.40748233, 59.81660154, 61.76693513,\n",
        "       58.51492572, 53.63172482, 60.26980781, 54.83753917, 52.20534538,\n",
        "       47.13641941, 57.48526885, 49.70623909, 54.06362895, 51.75296093,\n",
        "       55.97843964, 60.16743358, 63.04238304, 53.50942697, 59.97548148,\n",
        "       53.3191848 , 51.2034499 , 53.7625847 , 59.88820899, 59.16328189,\n",
        "       56.21980301, 57.40654645, 61.5510683 , 51.85528514, 51.75343004,\n",
        "       57.26763066, 52.88840708, 54.91778017, 61.19223147, 53.44747139,\n",
        "       51.37384174, 55.17008976, 53.91365987, 55.05328184, 54.70174785,\n",
        "       51.06162712, 52.50936541, 57.20199561, 54.01815551, 53.6804896 ,\n",
        "       50.05418242, 55.68181506, 54.47560081, 56.30867917, 61.6684456 ,\n",
        "       51.45130781, 53.78300707, 57.83102655, 52.83208387, 53.23821909,\n",
        "       54.30265762, 55.59177972, 57.36767627, 57.02727271, 51.64857064,\n",
        "       53.24478465, 47.75774081, 55.5426839 , 55.28387245, 57.34233238,\n",
        "       56.68587157, 54.86375494, 56.50399932, 59.7648135 , 57.13135203,\n",
        "       49.25249566, 51.1361702 , 56.76837135, 51.4968301 , 55.91910311])"
      ]
    },
    {
      "cell_type": "code",
      "execution_count": 4,
      "metadata": {
        "colab": {
          "base_uri": "https://localhost:8080/",
          "height": 430
        },
        "id": "-UjrEG-p682S",
        "outputId": "7fb89bff-9358-4e30-c2a5-31c95465cb00"
      },
      "outputs": [
        {
          "data": {
            "image/png": "[encoded data removed]",
            "text/plain": [
              "<Figure size 640x480 with 1 Axes>"
            ]
          },
          "metadata": {},
          "output_type": "display_data"
        }
      ],
      "source": [
        "plt.hist(datos_parent_dist)\n",
        "plt.show()"
      ]
    },
    {
      "cell_type": "code",
      "execution_count": 5,
      "metadata": {
        "colab": {
          "base_uri": "https://localhost:8080/"
        },
        "id": "ema6F5fa7Lnk",
        "outputId": "9850b469-a4d4-413c-cda8-b18bfe57ff7e"
      },
      "outputs": [
        {
          "data": {
            "text/plain": [
              "55.44976884705"
            ]
          },
          "execution_count": 5,
          "metadata": {},
          "output_type": "execute_result"
        }
      ],
      "source": [
        "datos_parent_dist.mean()"
      ]
    },
    {
      "cell_type": "code",
      "execution_count": 6,
      "metadata": {
        "colab": {
          "base_uri": "https://localhost:8080/"
        },
        "id": "ZZ8g3YXR92MC",
        "outputId": "56787be3-aa4c-43f2-91a8-2f7f82105dfd"
      },
      "outputs": [
        {
          "data": {
            "text/plain": [
              "3.38727889122596"
            ]
          },
          "execution_count": 6,
          "metadata": {},
          "output_type": "execute_result"
        }
      ],
      "source": [
        "datos_parent_dist.std(ddof=0) ##ddof=0 para población"
      ]
    },
    {
      "cell_type": "code",
      "execution_count": null,
      "metadata": {
        "id": "2sdnOrdXPAwv"
      },
      "outputs": [],
      "source": []
    },
    {
      "cell_type": "markdown",
      "metadata": {
        "id": "gZX8eMN6NrUu"
      },
      "source": [
        "**Instrucciones**\n",
        "\n",
        "La actividad se hace en equipo. Cada miembro del equipo toma 5 papelitos que reportan los valores de los datos simulados. Estamos suponiendo que estos 200 valores se refieran a una \"población\", no a una muestra. También, sabemos que la distribución de esta población es normal, con:\n",
        "\n",
        "$\\mu=3.45$ (media)\n",
        "\n",
        "$\\sigma=3.39$ (desviación estándar)\n",
        "\n",
        "En la sección de abajo, cada equipo escribe el número de papelitos que tiene y crea un vector (llamado muestra) que contenga todos los valores:"
      ]
    },
    {
      "cell_type": "code",
      "execution_count": 7,
      "metadata": {
        "id": "28v1Uo7y-Yzg"
      },
      "outputs": [],
      "source": [
        "N = 5\n",
        "muestra = np.array([47.13641941,53.7625847,60.55421642,52.04310783,51.0290174,58.94418616,55.74978023,57.14387249,59.40232828,54.92345278,54.49004352, 54.90809834, 55.65248097, 49.7477862, 58.98035041,55.73758017, 54.86375494, 52.50936541, 55.18717593,53.9136,61.1922,56.5039,51.4513,52.7838])"
      ]
    },
    {
      "cell_type": "markdown",
      "metadata": {
        "id": "ysJ6v42VPfHp"
      },
      "source": [
        "Calcular la media $\\bar{x}$ y la desviación estándar de la muestra ($s$):"
      ]
    },
    {
      "cell_type": "code",
      "execution_count": 10,
      "metadata": {
        "id": "2SlSXSujPkqf"
      },
      "outputs": [
        {
          "data": {
            "text/plain": [
              "(54.94210006625, 3.347657020685394)"
            ]
          },
          "execution_count": 10,
          "metadata": {},
          "output_type": "execute_result"
        }
      ],
      "source": [
        "media_muestra = np.mean(muestra)\n",
        "desv_muestra = np.std(muestra, ddof=1)\n",
        "\n",
        "media_muestra, desv_muestra"
      ]
    },
    {
      "cell_type": "markdown",
      "metadata": {
        "id": "s66MpfetPtU9"
      },
      "source": [
        "¿La media se acerca a la media de la población?\n",
        "¿La desviación estándar se acerca a la desviación de la población?"
      ]
    },
    {
      "cell_type": "markdown",
      "metadata": {
        "id": "baPA-6QhP63s"
      },
      "source": [
        "Comparar el valor obtenido de la desviación de la muestra con el valor que obtuvieron los otros equipos, observando cómo varía con el número de papelitos N colectado por cada equipo."
      ]
    },
    {
      "cell_type": "code",
      "execution_count": null,
      "metadata": {
        "id": "Tv5KYJ4ZP5fv"
      },
      "outputs": [],
      "source": []
    }
  ],
  "metadata": {
    "colab": {
      "provenance": []
    },
    "kernelspec": {
      "display_name": "Python 3",
      "name": "python3"
    },
    "language_info": {
      "codemirror_mode": {
        "name": "ipython",
        "version": 3
      },
      "file_extension": ".py",
      "mimetype": "text/x-python",
      "name": "python",
      "nbconvert_exporter": "python",
      "pygments_lexer": "ipython3",
      "version": "3.11.3"
    }
  },
  "nbformat": 4,
  "nbformat_minor": 0
}
